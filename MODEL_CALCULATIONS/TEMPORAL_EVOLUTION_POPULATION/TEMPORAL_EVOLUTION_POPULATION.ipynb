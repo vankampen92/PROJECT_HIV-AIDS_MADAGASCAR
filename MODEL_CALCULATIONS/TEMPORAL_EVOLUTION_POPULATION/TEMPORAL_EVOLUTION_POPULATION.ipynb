{
 "cells": [
  {
   "cell_type": "markdown",
   "metadata": {},
   "source": [
    "# Creating the files that store time dependent parameters\n",
    "\n",
    "This Jupyter notebook is to summarize the input files required to generate the time dependent parameter files for each city from demographic data. For everything to work properly, the follwing input files should be in the directory: \n",
    "\n",
    "`\n",
    "~/PROJECT_HIV-AIDS_MADAGASCAR/MODEL_CALCULATIONS/TEMPORAL_EVOLUTION_POPULATION/\n",
    "`\n",
    "\n",
    "are: \n",
    "\n",
    "\n",
    "\n",
    "This main code reads population and demography data (for every city) stored in these files, and then, plot out a bunch of empirical population temporal evolutions, but the central focus of the code is to estimate recruitment rates, F_X, F_Y, and sex-specific mortalities from life table, fecundity and population data for each city.\n",
    "\n",
    "Estimated parameters are then organized in four-row matrices of time dependent parameters that span either the fitting period (2000-2016) or the whole period (2000-2033). These are saved in output files of two types:\n",
    "\n",
    ". Time_Dependent_Parameters_[City_Name].dat (2000-2016)\n",
    " \n",
    ". Time_Dependent_Parameters_Extrapolated_[City_Name].dat (2000-2033)\n",
    "\n",
    "Time dependent parameter files are used all over for parameter estimation procedure through random searches, but first recruitment ratess are corrected by a constat fittet parameter, r. This is done in:\n",
    "\n",
    "   . ~/PROJECT_HIV-AIDS_MADAGASCAR/MODEL_CALCULATIONS/TEMPORAL_EVOLUTION_r_FACTOR_ESTIMATE   \n",
    "\n",
    "where the corresponding corrected final files are saved: \n",
    "\n",
    ". Time_Dependent_Parameters_Corrected_[City_Name].dat (2000-2016)\n",
    " \n",
    ". Time_Dependent_Parameters_Extrapolated_Corrected_[City_Name].dat (2000-2033)\n"
   ]
  },
  {
   "cell_type": "code",
   "execution_count": null,
   "metadata": {},
   "outputs": [],
   "source": []
  },
  {
   "cell_type": "code",
   "execution_count": null,
   "metadata": {},
   "outputs": [],
   "source": []
  }
 ],
 "metadata": {
  "kernelspec": {
   "display_name": "Python 3",
   "language": "python",
   "name": "python3"
  },
  "language_info": {
   "codemirror_mode": {
    "name": "ipython",
    "version": 3
   },
   "file_extension": ".py",
   "mimetype": "text/x-python",
   "name": "python",
   "nbconvert_exporter": "python",
   "pygments_lexer": "ipython3",
   "version": "3.7.3"
  }
 },
 "nbformat": 4,
 "nbformat_minor": 4
}
